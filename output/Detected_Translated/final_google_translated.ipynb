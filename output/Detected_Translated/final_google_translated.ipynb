{
 "cells": [
  {
   "cell_type": "code",
   "execution_count": 8,
   "metadata": {},
   "outputs": [
    {
     "name": "stdout",
     "output_type": "stream",
     "text": [
      "Requirement already satisfied: googletrans==3.1.0a0 in /pfs/data5/home/ma/ma_ma/ma_syoo/miniconda3/envs/mmds/lib/python3.10/site-packages (3.1.0a0)\n",
      "Requirement already satisfied: httpx==0.13.3 in /pfs/data5/home/ma/ma_ma/ma_syoo/miniconda3/envs/mmds/lib/python3.10/site-packages (from googletrans==3.1.0a0) (0.13.3)\n",
      "Requirement already satisfied: httpcore==0.9.* in /pfs/data5/home/ma/ma_ma/ma_syoo/miniconda3/envs/mmds/lib/python3.10/site-packages (from httpx==0.13.3->googletrans==3.1.0a0) (0.9.1)\n",
      "Requirement already satisfied: rfc3986<2,>=1.3 in /pfs/data5/home/ma/ma_ma/ma_syoo/miniconda3/envs/mmds/lib/python3.10/site-packages (from httpx==0.13.3->googletrans==3.1.0a0) (1.5.0)\n",
      "Requirement already satisfied: certifi in /pfs/data5/home/ma/ma_ma/ma_syoo/miniconda3/envs/mmds/lib/python3.10/site-packages (from httpx==0.13.3->googletrans==3.1.0a0) (2022.9.24)\n",
      "Requirement already satisfied: chardet==3.* in /pfs/data5/home/ma/ma_ma/ma_syoo/miniconda3/envs/mmds/lib/python3.10/site-packages (from httpx==0.13.3->googletrans==3.1.0a0) (3.0.4)\n",
      "Requirement already satisfied: hstspreload in /pfs/data5/home/ma/ma_ma/ma_syoo/miniconda3/envs/mmds/lib/python3.10/site-packages (from httpx==0.13.3->googletrans==3.1.0a0) (2022.11.1)\n",
      "Requirement already satisfied: sniffio in /pfs/data5/home/ma/ma_ma/ma_syoo/miniconda3/envs/mmds/lib/python3.10/site-packages (from httpx==0.13.3->googletrans==3.1.0a0) (1.2.0)\n",
      "Requirement already satisfied: idna==2.* in /pfs/data5/home/ma/ma_ma/ma_syoo/miniconda3/envs/mmds/lib/python3.10/site-packages (from httpx==0.13.3->googletrans==3.1.0a0) (2.10)\n",
      "Requirement already satisfied: h2==3.* in /pfs/data5/home/ma/ma_ma/ma_syoo/miniconda3/envs/mmds/lib/python3.10/site-packages (from httpcore==0.9.*->httpx==0.13.3->googletrans==3.1.0a0) (3.2.0)\n",
      "Requirement already satisfied: h11<0.10,>=0.8 in /pfs/data5/home/ma/ma_ma/ma_syoo/miniconda3/envs/mmds/lib/python3.10/site-packages (from httpcore==0.9.*->httpx==0.13.3->googletrans==3.1.0a0) (0.9.0)\n",
      "Requirement already satisfied: hpack<4,>=3.0 in /pfs/data5/home/ma/ma_ma/ma_syoo/miniconda3/envs/mmds/lib/python3.10/site-packages (from h2==3.*->httpcore==0.9.*->httpx==0.13.3->googletrans==3.1.0a0) (3.0.0)\n",
      "Requirement already satisfied: hyperframe<6,>=5.2.0 in /pfs/data5/home/ma/ma_ma/ma_syoo/miniconda3/envs/mmds/lib/python3.10/site-packages (from h2==3.*->httpcore==0.9.*->httpx==0.13.3->googletrans==3.1.0a0) (5.2.0)\n",
      "Note: you may need to restart the kernel to use updated packages.\n"
     ]
    }
   ],
   "source": [
    "#pip install googletrans==3.1.0a0"
   ]
  },
  {
   "cell_type": "code",
   "execution_count": 1,
   "metadata": {},
   "outputs": [],
   "source": [
    "from googletrans import Translator"
   ]
  },
  {
   "cell_type": "code",
   "execution_count": 14,
   "metadata": {},
   "outputs": [
    {
     "name": "stdout",
     "output_type": "stream",
     "text": [
      "Detected(lang=de, confidence=1)\n",
      "Translated(src=de, dest=en, text=The lecture on search engines is great!, pronunciation=The lecture on search engines is great!, extra_data=\"{'translat...\")\n"
     ]
    }
   ],
   "source": [
    "import googletrans\n",
    "from googletrans import Translator\n",
    "\n",
    "translator = Translator()\n",
    "text2 = \"Die Vorlesung über Suchmaschinen ist großartig!\"\n",
    "print(translator.detect(text2))\n",
    "print(translator.translate(text2))"
   ]
  },
  {
   "cell_type": "code",
   "execution_count": 18,
   "metadata": {},
   "outputs": [
    {
     "data": {
      "text/plain": [
       "'ht'"
      ]
     },
     "execution_count": 18,
     "metadata": {},
     "output_type": "execute_result"
    }
   ],
   "source": [
    "translator.detect(df['ABSTRACT_'][6]).lang"
   ]
  },
  {
   "cell_type": "code",
   "execution_count": 3,
   "metadata": {},
   "outputs": [],
   "source": [
    "import re\n",
    "import numpy as np\n",
    "import sys\n",
    "import os\n",
    "import pandas as pd\n",
    "import string\n",
    "import matplotlib.pyplot as plt \n",
    "from tqdm import tqdm"
   ]
  },
  {
   "cell_type": "code",
   "execution_count": 4,
   "metadata": {},
   "outputs": [],
   "source": [
    "df= pd.read_csv(\"output_narrow.csv\")\n",
    "def remove_punctuations(text):\n",
    "    try:\n",
    "        for punctuation in string.punctuation:\n",
    "            text = text.replace(punctuation, '')\n",
    "    except:\n",
    "        pass\n",
    "    return text\n",
    "df['TITLE_'] = [remove_punctuations(i) for i in df['TITLE'].values]\n",
    "df['ABSTRACT_'] = [remove_punctuations(i) for i in df['ABSTRACT'].values]"
   ]
  },
  {
   "cell_type": "markdown",
   "metadata": {},
   "source": [
    "# Google Translator"
   ]
  },
  {
   "cell_type": "markdown",
   "metadata": {},
   "source": [
    "## Detection"
   ]
  },
  {
   "cell_type": "code",
   "execution_count": 19,
   "metadata": {},
   "outputs": [],
   "source": [
    "from googletrans import Translator\n",
    "def language_detector(text):   \n",
    "    translator = Translator()\n",
    "    try:\n",
    "        return translator.detect(text).lang\n",
    "    except:\n",
    "        return None"
   ]
  },
  {
   "cell_type": "code",
   "execution_count": 21,
   "metadata": {},
   "outputs": [],
   "source": [
    "language_detector([df['TITLE_'][5]])"
   ]
  },
  {
   "cell_type": "code",
   "execution_count": null,
   "metadata": {},
   "outputs": [],
   "source": [
    "title_lan = []\n",
    "for i in tqdm(range(df.shape[0])):\n",
    "    if df['TITLE_'][i] != 'nan':\n",
    "        try:\n",
    "            title_lan.append(translator.translate(df['TITLE_'][i], src=df['TITLE_lan'][i], dest='en').text)\n",
    "        except:\n",
    "            title_lan.append(df['TITLE_'][i])\n",
    "    else:\n",
    "        title_lan.append(df['TITLE_'][i])"
   ]
  },
  {
   "cell_type": "code",
   "execution_count": 7,
   "metadata": {},
   "outputs": [
    {
     "data": {
      "text/plain": [
       "'de'"
      ]
     },
     "execution_count": 7,
     "metadata": {},
     "output_type": "execute_result"
    }
   ],
   "source": [
    "language_detector(df['TITLE_'][5])"
   ]
  },
  {
   "cell_type": "code",
   "execution_count": 22,
   "metadata": {},
   "outputs": [
    {
     "name": "stderr",
     "output_type": "stream",
     "text": [
      "100%|██████████| 10000/10000 [14:22<00:00, 11.59it/s]\n"
     ]
    }
   ],
   "source": [
    "df['TITLE_lan'] = [language_detector(i) for i in tqdm(df['TITLE_'].values)]"
   ]
  },
  {
   "cell_type": "code",
   "execution_count": 24,
   "metadata": {},
   "outputs": [],
   "source": [
    "df.to_csv('(usingGoogle)detected_title.csv')"
   ]
  },
  {
   "cell_type": "code",
   "execution_count": 25,
   "metadata": {},
   "outputs": [
    {
     "name": "stderr",
     "output_type": "stream",
     "text": [
      "100%|██████████| 10000/10000 [08:17<00:00, 20.11it/s]\n"
     ]
    }
   ],
   "source": [
    "df['ABSTRACT_lan'] = [language_detector(i) for i in tqdm(df['ABSTRACT_'].values)]"
   ]
  },
  {
   "cell_type": "code",
   "execution_count": 27,
   "metadata": {},
   "outputs": [],
   "source": [
    "df.to_csv('(usingGoogle)final_detected_title.csv')"
   ]
  },
  {
   "cell_type": "markdown",
   "metadata": {},
   "source": [
    "## Translation"
   ]
  },
  {
   "cell_type": "code",
   "execution_count": 28,
   "metadata": {},
   "outputs": [
    {
     "name": "stderr",
     "output_type": "stream",
     "text": [
      "100%|██████████| 10000/10000 [03:58<00:00, 41.92it/s]\n"
     ]
    }
   ],
   "source": [
    "from googletrans import Translator\n",
    "ranslator = Translator()\n",
    "\n",
    "title_en = []\n",
    "for i in tqdm(range(df.shape[0])):\n",
    "    if df['TITLE_lan'][i] != 'en':\n",
    "        try:\n",
    "            title_en.append(translator.translate(df['TITLE_'][i], src=df['TITLE_lan'][i], dest='en').text)\n",
    "        except:\n",
    "            title_en.append(df['TITLE_'][i])\n",
    "    else:\n",
    "        title_en.append(df['TITLE_'][i])"
   ]
  },
  {
   "cell_type": "code",
   "execution_count": 30,
   "metadata": {},
   "outputs": [],
   "source": [
    "df['title_en'] = title_en\n",
    "df.to_csv('(usingGoogle)translated_title.csv')"
   ]
  },
  {
   "cell_type": "code",
   "execution_count": 31,
   "metadata": {},
   "outputs": [
    {
     "name": "stderr",
     "output_type": "stream",
     "text": [
      "100%|██████████| 10000/10000 [02:56<00:00, 56.55it/s]\n"
     ]
    }
   ],
   "source": [
    "from googletrans import Translator\n",
    "translator = Translator()\n",
    "\n",
    "abstract_en = []\n",
    "for i in tqdm(range(df.shape[0])):\n",
    "    if df['ABSTRACT_lan'][i] != 'en':\n",
    "        try:\n",
    "            abstract_en.append(translator.translate(df['ABSTRACT_'][i], src=df['ABSTRACT_lan'][i], dest='en').text)\n",
    "        except:\n",
    "            abstract_en.append(df['ABSTRACT_'][i])\n",
    "    else:\n",
    "        abstract_en.append(df['ABSTRACT_'][i])"
   ]
  },
  {
   "cell_type": "code",
   "execution_count": 32,
   "metadata": {},
   "outputs": [],
   "source": [
    "df['abstract_en'] = abstract_en\n",
    "df.to_csv('(usingGoogle)final_translated.csv')"
   ]
  },
  {
   "cell_type": "markdown",
   "metadata": {},
   "source": [
    "# Query"
   ]
  },
  {
   "cell_type": "code",
   "execution_count": 33,
   "metadata": {},
   "outputs": [
    {
     "data": {
      "text/html": [
       "<div>\n",
       "<style scoped>\n",
       "    .dataframe tbody tr th:only-of-type {\n",
       "        vertical-align: middle;\n",
       "    }\n",
       "\n",
       "    .dataframe tbody tr th {\n",
       "        vertical-align: top;\n",
       "    }\n",
       "\n",
       "    .dataframe thead th {\n",
       "        text-align: right;\n",
       "    }\n",
       "</style>\n",
       "<table border=\"1\" class=\"dataframe\">\n",
       "  <thead>\n",
       "    <tr style=\"text-align: right;\">\n",
       "      <th></th>\n",
       "      <th>qid:</th>\n",
       "      <th>qstr</th>\n",
       "      <th>candidates</th>\n",
       "    </tr>\n",
       "  </thead>\n",
       "  <tbody>\n",
       "    <tr>\n",
       "      <th>0</th>\n",
       "      <td>943</td>\n",
       "      <td>mbsr</td>\n",
       "      <td>[M30928765, M30928764, M33155250, M30137607, M...</td>\n",
       "    </tr>\n",
       "    <tr>\n",
       "      <th>1</th>\n",
       "      <td>925</td>\n",
       "      <td>gender</td>\n",
       "      <td>[M32275910, NLM101312283, M10231258, M33595817...</td>\n",
       "    </tr>\n",
       "    <tr>\n",
       "      <th>2</th>\n",
       "      <td>407</td>\n",
       "      <td>einsamkeit</td>\n",
       "      <td>[NLM9707686, NLM9215358, M27924693, M33285613,...</td>\n",
       "    </tr>\n",
       "    <tr>\n",
       "      <th>3</th>\n",
       "      <td>123</td>\n",
       "      <td>midwife</td>\n",
       "      <td>[M18612453, M32361389, M33000708, M33537647, M...</td>\n",
       "    </tr>\n",
       "    <tr>\n",
       "      <th>4</th>\n",
       "      <td>220</td>\n",
       "      <td>bgm</td>\n",
       "      <td>[M33384475, M33392927, M33634364, M32172590, M...</td>\n",
       "    </tr>\n",
       "    <tr>\n",
       "      <th>...</th>\n",
       "      <td>...</td>\n",
       "      <td>...</td>\n",
       "      <td>...</td>\n",
       "    </tr>\n",
       "    <tr>\n",
       "      <th>95</th>\n",
       "      <td>374</td>\n",
       "      <td>intensivstation</td>\n",
       "      <td>[M33591384, M32431564, M32990764, M33564899, M...</td>\n",
       "    </tr>\n",
       "    <tr>\n",
       "      <th>96</th>\n",
       "      <td>264</td>\n",
       "      <td>rettungsdienst</td>\n",
       "      <td>[NLM100964607, NLM9703000, M31801168, M3267142...</td>\n",
       "    </tr>\n",
       "    <tr>\n",
       "      <th>97</th>\n",
       "      <td>791</td>\n",
       "      <td>ausbildung</td>\n",
       "      <td>[M33219415, M33640285, M32517595, M32875379, M...</td>\n",
       "    </tr>\n",
       "    <tr>\n",
       "      <th>98</th>\n",
       "      <td>399</td>\n",
       "      <td>safewards</td>\n",
       "      <td>[M30675756, M33293305, M32048899, M32691495, M...</td>\n",
       "    </tr>\n",
       "    <tr>\n",
       "      <th>99</th>\n",
       "      <td>1172</td>\n",
       "      <td>low AND carb</td>\n",
       "      <td>[M31098613, M29446894, M30694317, M30603299, M...</td>\n",
       "    </tr>\n",
       "  </tbody>\n",
       "</table>\n",
       "<p>100 rows × 3 columns</p>\n",
       "</div>"
      ],
      "text/plain": [
       "    qid:             qstr                                         candidates\n",
       "0    943             mbsr  [M30928765, M30928764, M33155250, M30137607, M...\n",
       "1    925           gender  [M32275910, NLM101312283, M10231258, M33595817...\n",
       "2    407       einsamkeit  [NLM9707686, NLM9215358, M27924693, M33285613,...\n",
       "3    123          midwife  [M18612453, M32361389, M33000708, M33537647, M...\n",
       "4    220              bgm  [M33384475, M33392927, M33634364, M32172590, M...\n",
       "..   ...              ...                                                ...\n",
       "95   374  intensivstation  [M33591384, M32431564, M32990764, M33564899, M...\n",
       "96   264   rettungsdienst  [NLM100964607, NLM9703000, M31801168, M3267142...\n",
       "97   791       ausbildung  [M33219415, M33640285, M32517595, M32875379, M...\n",
       "98   399        safewards  [M30675756, M33293305, M32048899, M32691495, M...\n",
       "99  1172     low AND carb  [M31098613, M29446894, M30694317, M30603299, M...\n",
       "\n",
       "[100 rows x 3 columns]"
      ]
     },
     "execution_count": 33,
     "metadata": {},
     "output_type": "execute_result"
    }
   ],
   "source": [
    "query = pd.read_json(\"livivo_hq_test_100_candidates.jsonl\", lines=True)\n",
    "query"
   ]
  },
  {
   "cell_type": "code",
   "execution_count": 35,
   "metadata": {},
   "outputs": [
    {
     "name": "stderr",
     "output_type": "stream",
     "text": [
      "100%|██████████| 100/100 [00:06<00:00, 15.62it/s]\n"
     ]
    }
   ],
   "source": [
    "query['qstr_lan'] = [language_detector(i) for i in tqdm(query['qstr'].values)]\n"
   ]
  },
  {
   "cell_type": "code",
   "execution_count": 38,
   "metadata": {},
   "outputs": [
    {
     "data": {
      "text/html": [
       "<div>\n",
       "<style scoped>\n",
       "    .dataframe tbody tr th:only-of-type {\n",
       "        vertical-align: middle;\n",
       "    }\n",
       "\n",
       "    .dataframe tbody tr th {\n",
       "        vertical-align: top;\n",
       "    }\n",
       "\n",
       "    .dataframe thead th {\n",
       "        text-align: right;\n",
       "    }\n",
       "</style>\n",
       "<table border=\"1\" class=\"dataframe\">\n",
       "  <thead>\n",
       "    <tr style=\"text-align: right;\">\n",
       "      <th></th>\n",
       "      <th>qid:</th>\n",
       "      <th>qstr</th>\n",
       "      <th>candidates</th>\n",
       "      <th>qstr_lan</th>\n",
       "    </tr>\n",
       "  </thead>\n",
       "  <tbody>\n",
       "    <tr>\n",
       "      <th>0</th>\n",
       "      <td>943</td>\n",
       "      <td>mbsr</td>\n",
       "      <td>[M30928765, M30928764, M33155250, M30137607, M...</td>\n",
       "      <td>en</td>\n",
       "    </tr>\n",
       "    <tr>\n",
       "      <th>1</th>\n",
       "      <td>925</td>\n",
       "      <td>gender</td>\n",
       "      <td>[M32275910, NLM101312283, M10231258, M33595817...</td>\n",
       "      <td>en</td>\n",
       "    </tr>\n",
       "    <tr>\n",
       "      <th>2</th>\n",
       "      <td>407</td>\n",
       "      <td>einsamkeit</td>\n",
       "      <td>[NLM9707686, NLM9215358, M27924693, M33285613,...</td>\n",
       "      <td>de</td>\n",
       "    </tr>\n",
       "    <tr>\n",
       "      <th>3</th>\n",
       "      <td>123</td>\n",
       "      <td>midwife</td>\n",
       "      <td>[M18612453, M32361389, M33000708, M33537647, M...</td>\n",
       "      <td>en</td>\n",
       "    </tr>\n",
       "    <tr>\n",
       "      <th>4</th>\n",
       "      <td>220</td>\n",
       "      <td>bgm</td>\n",
       "      <td>[M33384475, M33392927, M33634364, M32172590, M...</td>\n",
       "      <td>en</td>\n",
       "    </tr>\n",
       "    <tr>\n",
       "      <th>...</th>\n",
       "      <td>...</td>\n",
       "      <td>...</td>\n",
       "      <td>...</td>\n",
       "      <td>...</td>\n",
       "    </tr>\n",
       "    <tr>\n",
       "      <th>95</th>\n",
       "      <td>374</td>\n",
       "      <td>intensivstation</td>\n",
       "      <td>[M33591384, M32431564, M32990764, M33564899, M...</td>\n",
       "      <td>de</td>\n",
       "    </tr>\n",
       "    <tr>\n",
       "      <th>96</th>\n",
       "      <td>264</td>\n",
       "      <td>rettungsdienst</td>\n",
       "      <td>[NLM100964607, NLM9703000, M31801168, M3267142...</td>\n",
       "      <td>de</td>\n",
       "    </tr>\n",
       "    <tr>\n",
       "      <th>97</th>\n",
       "      <td>791</td>\n",
       "      <td>ausbildung</td>\n",
       "      <td>[M33219415, M33640285, M32517595, M32875379, M...</td>\n",
       "      <td>de</td>\n",
       "    </tr>\n",
       "    <tr>\n",
       "      <th>98</th>\n",
       "      <td>399</td>\n",
       "      <td>safewards</td>\n",
       "      <td>[M30675756, M33293305, M32048899, M32691495, M...</td>\n",
       "      <td>en</td>\n",
       "    </tr>\n",
       "    <tr>\n",
       "      <th>99</th>\n",
       "      <td>1172</td>\n",
       "      <td>low AND carb</td>\n",
       "      <td>[M31098613, M29446894, M30694317, M30603299, M...</td>\n",
       "      <td>en</td>\n",
       "    </tr>\n",
       "  </tbody>\n",
       "</table>\n",
       "<p>100 rows × 4 columns</p>\n",
       "</div>"
      ],
      "text/plain": [
       "    qid:             qstr                                         candidates  \\\n",
       "0    943             mbsr  [M30928765, M30928764, M33155250, M30137607, M...   \n",
       "1    925           gender  [M32275910, NLM101312283, M10231258, M33595817...   \n",
       "2    407       einsamkeit  [NLM9707686, NLM9215358, M27924693, M33285613,...   \n",
       "3    123          midwife  [M18612453, M32361389, M33000708, M33537647, M...   \n",
       "4    220              bgm  [M33384475, M33392927, M33634364, M32172590, M...   \n",
       "..   ...              ...                                                ...   \n",
       "95   374  intensivstation  [M33591384, M32431564, M32990764, M33564899, M...   \n",
       "96   264   rettungsdienst  [NLM100964607, NLM9703000, M31801168, M3267142...   \n",
       "97   791       ausbildung  [M33219415, M33640285, M32517595, M32875379, M...   \n",
       "98   399        safewards  [M30675756, M33293305, M32048899, M32691495, M...   \n",
       "99  1172     low AND carb  [M31098613, M29446894, M30694317, M30603299, M...   \n",
       "\n",
       "   qstr_lan  \n",
       "0        en  \n",
       "1        en  \n",
       "2        de  \n",
       "3        en  \n",
       "4        en  \n",
       "..      ...  \n",
       "95       de  \n",
       "96       de  \n",
       "97       de  \n",
       "98       en  \n",
       "99       en  \n",
       "\n",
       "[100 rows x 4 columns]"
      ]
     },
     "execution_count": 38,
     "metadata": {},
     "output_type": "execute_result"
    }
   ],
   "source": [
    "query"
   ]
  },
  {
   "cell_type": "code",
   "execution_count": 42,
   "metadata": {},
   "outputs": [
    {
     "name": "stderr",
     "output_type": "stream",
     "text": [
      "100%|██████████| 100/100 [00:02<00:00, 39.39it/s]\n"
     ]
    }
   ],
   "source": [
    "translator = googletrans.Translator()\n",
    "\n",
    "# non_en_idx = df[df['TITLE_lan']!='en'].index\n",
    "# non_en_trans = [translator.translate(df['TITLE_'][i], scr=df['TITLE_lan'][i], dest='en') for i in non_en_idx]\n",
    "\n",
    "query_en = []\n",
    "for i in tqdm(range(query.shape[0])):\n",
    "    if query['qstr_lan'][i] != 'en':\n",
    "        try:\n",
    "            query_en.append(translator.translate(query['qstr'][i], src=query['qstr_lan'][i], dest='en').text)\n",
    "        except:\n",
    "            query_en.append(query['qstr'][i])\n",
    "    else:\n",
    "        query_en.append(query['qstr'][i])"
   ]
  },
  {
   "cell_type": "code",
   "execution_count": 37,
   "metadata": {},
   "outputs": [],
   "source": [
    "#plt.bar(query['qstr_lan'].value_counts(normalize=True).keys(),query['qstr_lan'].value_counts(normalize=True).values)"
   ]
  },
  {
   "cell_type": "code",
   "execution_count": 44,
   "metadata": {},
   "outputs": [],
   "source": [
    "query['qstr_en'] =query_en\n",
    "query.to_csv('(usingGoogle)final_query_translated.csv')"
   ]
  }
 ],
 "metadata": {
  "kernelspec": {
   "display_name": "Python 3.10.1 64-bit",
   "language": "python",
   "name": "python3"
  },
  "language_info": {
   "codemirror_mode": {
    "name": "ipython",
    "version": 3
   },
   "file_extension": ".py",
   "mimetype": "text/x-python",
   "name": "python",
   "nbconvert_exporter": "python",
   "pygments_lexer": "ipython3",
   "version": "3.10.1"
  },
  "orig_nbformat": 4,
  "vscode": {
   "interpreter": {
    "hash": "aee8b7b246df8f9039afb4144a1f6fd8d2ca17a180786b69acc140d282b71a49"
   }
  }
 },
 "nbformat": 4,
 "nbformat_minor": 2
}
